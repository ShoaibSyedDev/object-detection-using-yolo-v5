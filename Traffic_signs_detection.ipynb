{
  "nbformat": 4,
  "nbformat_minor": 0,
  "metadata": {
    "accelerator": "GPU",
    "colab": {
      "name": "Traffic signs detection.ipynb",
      "provenance": [],
      "collapsed_sections": []
    },
    "kernelspec": {
      "display_name": "Python 3",
      "name": "python3"
    },
    "language_info": {
      "name": "python"
    }
  },
  "cells": [
    {
      "cell_type": "code",
      "metadata": {
        "colab": {
          "base_uri": "https://localhost:8080/"
        },
        "id": "gaBixYzmZxvN",
        "outputId": "6acc95bb-e1ba-43d9-c07b-1f59604b92bd"
      },
      "source": [
        "cd '/content/drive/MyDrive/Road_Sign_Dataset'"
      ],
      "execution_count": null,
      "outputs": [
        {
          "output_type": "stream",
          "name": "stdout",
          "text": [
            "/content/drive/MyDrive/Road_Sign_Dataset\n"
          ]
        }
      ]
    },
    {
      "cell_type": "code",
      "metadata": {
        "colab": {
          "base_uri": "https://localhost:8080/",
          "height": 35
        },
        "id": "uNTomv2xZ4gt",
        "outputId": "829b97c6-6776-43ea-c09f-9ce0db781cb6"
      },
      "source": [
        "pwd"
      ],
      "execution_count": null,
      "outputs": [
        {
          "output_type": "execute_result",
          "data": {
            "application/vnd.google.colaboratory.intrinsic+json": {
              "type": "string"
            },
            "text/plain": [
              "'/content/drive/MyDrive/Road_Sign_Dataset'"
            ]
          },
          "metadata": {},
          "execution_count": 43
        }
      ]
    },
    {
      "cell_type": "code",
      "metadata": {
        "colab": {
          "base_uri": "https://localhost:8080/"
        },
        "id": "MKSxvQhyV9Yp",
        "outputId": "b8a40eb0-e86b-499b-d6e4-1df14ed17bd8"
      },
      "source": [
        "!git clone https://github.com/ultralytics/yolov5"
      ],
      "execution_count": null,
      "outputs": [
        {
          "output_type": "stream",
          "name": "stdout",
          "text": [
            "Cloning into 'yolov5'...\n",
            "remote: Enumerating objects: 9484, done.\u001b[K\n",
            "remote: Counting objects: 100% (11/11), done.\u001b[K\n",
            "remote: Compressing objects: 100% (10/10), done.\u001b[K\n",
            "remote: Total 9484 (delta 2), reused 7 (delta 1), pack-reused 9473\u001b[K\n",
            "Receiving objects: 100% (9484/9484), 9.90 MiB | 5.96 MiB/s, done.\n",
            "Resolving deltas: 100% (6590/6590), done.\n",
            "Checking out files: 100% (96/96), done.\n"
          ]
        }
      ]
    },
    {
      "cell_type": "code",
      "metadata": {
        "colab": {
          "base_uri": "https://localhost:8080/"
        },
        "id": "JToz354eWb-2",
        "outputId": "4bc3165f-ecd5-44bc-9fb1-5f6e89b6d1f4"
      },
      "source": [
        "!pip install -r yolov5/requirements.txt"
      ],
      "execution_count": null,
      "outputs": [
        {
          "output_type": "stream",
          "name": "stdout",
          "text": [
            "Requirement already satisfied: matplotlib>=3.2.2 in /usr/local/lib/python3.7/dist-packages (from -r yolov5/requirements.txt (line 4)) (3.2.2)\n",
            "Requirement already satisfied: numpy>=1.18.5 in /usr/local/lib/python3.7/dist-packages (from -r yolov5/requirements.txt (line 5)) (1.19.5)\n",
            "Requirement already satisfied: opencv-python>=4.1.2 in /usr/local/lib/python3.7/dist-packages (from -r yolov5/requirements.txt (line 6)) (4.1.2.30)\n",
            "Requirement already satisfied: Pillow>=7.1.2 in /usr/local/lib/python3.7/dist-packages (from -r yolov5/requirements.txt (line 7)) (7.1.2)\n",
            "Requirement already satisfied: PyYAML>=5.3.1 in /usr/local/lib/python3.7/dist-packages (from -r yolov5/requirements.txt (line 8)) (5.4.1)\n",
            "Requirement already satisfied: scipy>=1.4.1 in /usr/local/lib/python3.7/dist-packages (from -r yolov5/requirements.txt (line 9)) (1.4.1)\n",
            "Requirement already satisfied: torch>=1.7.0 in /usr/local/lib/python3.7/dist-packages (from -r yolov5/requirements.txt (line 10)) (1.9.0+cu102)\n",
            "Requirement already satisfied: torchvision>=0.8.1 in /usr/local/lib/python3.7/dist-packages (from -r yolov5/requirements.txt (line 11)) (0.10.0+cu102)\n",
            "Requirement already satisfied: tqdm>=4.41.0 in /usr/local/lib/python3.7/dist-packages (from -r yolov5/requirements.txt (line 12)) (4.62.3)\n",
            "Requirement already satisfied: tensorboard>=2.4.1 in /usr/local/lib/python3.7/dist-packages (from -r yolov5/requirements.txt (line 15)) (2.6.0)\n",
            "Requirement already satisfied: pandas in /usr/local/lib/python3.7/dist-packages (from -r yolov5/requirements.txt (line 19)) (1.1.5)\n",
            "Requirement already satisfied: seaborn>=0.11.0 in /usr/local/lib/python3.7/dist-packages (from -r yolov5/requirements.txt (line 20)) (0.11.2)\n",
            "Requirement already satisfied: thop in /usr/local/lib/python3.7/dist-packages (from -r yolov5/requirements.txt (line 35)) (0.0.31.post2005241907)\n",
            "Requirement already satisfied: python-dateutil>=2.1 in /usr/local/lib/python3.7/dist-packages (from matplotlib>=3.2.2->-r yolov5/requirements.txt (line 4)) (2.8.2)\n",
            "Requirement already satisfied: pyparsing!=2.0.4,!=2.1.2,!=2.1.6,>=2.0.1 in /usr/local/lib/python3.7/dist-packages (from matplotlib>=3.2.2->-r yolov5/requirements.txt (line 4)) (2.4.7)\n",
            "Requirement already satisfied: cycler>=0.10 in /usr/local/lib/python3.7/dist-packages (from matplotlib>=3.2.2->-r yolov5/requirements.txt (line 4)) (0.10.0)\n",
            "Requirement already satisfied: kiwisolver>=1.0.1 in /usr/local/lib/python3.7/dist-packages (from matplotlib>=3.2.2->-r yolov5/requirements.txt (line 4)) (1.3.2)\n",
            "Requirement already satisfied: typing-extensions in /usr/local/lib/python3.7/dist-packages (from torch>=1.7.0->-r yolov5/requirements.txt (line 10)) (3.7.4.3)\n",
            "Requirement already satisfied: grpcio>=1.24.3 in /usr/local/lib/python3.7/dist-packages (from tensorboard>=2.4.1->-r yolov5/requirements.txt (line 15)) (1.41.0)\n",
            "Requirement already satisfied: protobuf>=3.6.0 in /usr/local/lib/python3.7/dist-packages (from tensorboard>=2.4.1->-r yolov5/requirements.txt (line 15)) (3.17.3)\n",
            "Requirement already satisfied: google-auth-oauthlib<0.5,>=0.4.1 in /usr/local/lib/python3.7/dist-packages (from tensorboard>=2.4.1->-r yolov5/requirements.txt (line 15)) (0.4.6)\n",
            "Requirement already satisfied: setuptools>=41.0.0 in /usr/local/lib/python3.7/dist-packages (from tensorboard>=2.4.1->-r yolov5/requirements.txt (line 15)) (57.4.0)\n",
            "Requirement already satisfied: tensorboard-plugin-wit>=1.6.0 in /usr/local/lib/python3.7/dist-packages (from tensorboard>=2.4.1->-r yolov5/requirements.txt (line 15)) (1.8.0)\n",
            "Requirement already satisfied: werkzeug>=0.11.15 in /usr/local/lib/python3.7/dist-packages (from tensorboard>=2.4.1->-r yolov5/requirements.txt (line 15)) (1.0.1)\n",
            "Requirement already satisfied: requests<3,>=2.21.0 in /usr/local/lib/python3.7/dist-packages (from tensorboard>=2.4.1->-r yolov5/requirements.txt (line 15)) (2.23.0)\n",
            "Requirement already satisfied: google-auth<2,>=1.6.3 in /usr/local/lib/python3.7/dist-packages (from tensorboard>=2.4.1->-r yolov5/requirements.txt (line 15)) (1.35.0)\n",
            "Requirement already satisfied: wheel>=0.26 in /usr/local/lib/python3.7/dist-packages (from tensorboard>=2.4.1->-r yolov5/requirements.txt (line 15)) (0.37.0)\n",
            "Requirement already satisfied: absl-py>=0.4 in /usr/local/lib/python3.7/dist-packages (from tensorboard>=2.4.1->-r yolov5/requirements.txt (line 15)) (0.12.0)\n",
            "Requirement already satisfied: tensorboard-data-server<0.7.0,>=0.6.0 in /usr/local/lib/python3.7/dist-packages (from tensorboard>=2.4.1->-r yolov5/requirements.txt (line 15)) (0.6.1)\n",
            "Requirement already satisfied: markdown>=2.6.8 in /usr/local/lib/python3.7/dist-packages (from tensorboard>=2.4.1->-r yolov5/requirements.txt (line 15)) (3.3.4)\n",
            "Requirement already satisfied: pytz>=2017.2 in /usr/local/lib/python3.7/dist-packages (from pandas->-r yolov5/requirements.txt (line 19)) (2018.9)\n",
            "Requirement already satisfied: six in /usr/local/lib/python3.7/dist-packages (from absl-py>=0.4->tensorboard>=2.4.1->-r yolov5/requirements.txt (line 15)) (1.15.0)\n",
            "Requirement already satisfied: cachetools<5.0,>=2.0.0 in /usr/local/lib/python3.7/dist-packages (from google-auth<2,>=1.6.3->tensorboard>=2.4.1->-r yolov5/requirements.txt (line 15)) (4.2.4)\n",
            "Requirement already satisfied: pyasn1-modules>=0.2.1 in /usr/local/lib/python3.7/dist-packages (from google-auth<2,>=1.6.3->tensorboard>=2.4.1->-r yolov5/requirements.txt (line 15)) (0.2.8)\n",
            "Requirement already satisfied: rsa<5,>=3.1.4 in /usr/local/lib/python3.7/dist-packages (from google-auth<2,>=1.6.3->tensorboard>=2.4.1->-r yolov5/requirements.txt (line 15)) (4.7.2)\n",
            "Requirement already satisfied: requests-oauthlib>=0.7.0 in /usr/local/lib/python3.7/dist-packages (from google-auth-oauthlib<0.5,>=0.4.1->tensorboard>=2.4.1->-r yolov5/requirements.txt (line 15)) (1.3.0)\n",
            "Requirement already satisfied: importlib-metadata in /usr/local/lib/python3.7/dist-packages (from markdown>=2.6.8->tensorboard>=2.4.1->-r yolov5/requirements.txt (line 15)) (4.8.1)\n",
            "Requirement already satisfied: pyasn1<0.5.0,>=0.4.6 in /usr/local/lib/python3.7/dist-packages (from pyasn1-modules>=0.2.1->google-auth<2,>=1.6.3->tensorboard>=2.4.1->-r yolov5/requirements.txt (line 15)) (0.4.8)\n",
            "Requirement already satisfied: idna<3,>=2.5 in /usr/local/lib/python3.7/dist-packages (from requests<3,>=2.21.0->tensorboard>=2.4.1->-r yolov5/requirements.txt (line 15)) (2.10)\n",
            "Requirement already satisfied: certifi>=2017.4.17 in /usr/local/lib/python3.7/dist-packages (from requests<3,>=2.21.0->tensorboard>=2.4.1->-r yolov5/requirements.txt (line 15)) (2021.5.30)\n",
            "Requirement already satisfied: chardet<4,>=3.0.2 in /usr/local/lib/python3.7/dist-packages (from requests<3,>=2.21.0->tensorboard>=2.4.1->-r yolov5/requirements.txt (line 15)) (3.0.4)\n",
            "Requirement already satisfied: urllib3!=1.25.0,!=1.25.1,<1.26,>=1.21.1 in /usr/local/lib/python3.7/dist-packages (from requests<3,>=2.21.0->tensorboard>=2.4.1->-r yolov5/requirements.txt (line 15)) (1.24.3)\n",
            "Requirement already satisfied: oauthlib>=3.0.0 in /usr/local/lib/python3.7/dist-packages (from requests-oauthlib>=0.7.0->google-auth-oauthlib<0.5,>=0.4.1->tensorboard>=2.4.1->-r yolov5/requirements.txt (line 15)) (3.1.1)\n",
            "Requirement already satisfied: zipp>=0.5 in /usr/local/lib/python3.7/dist-packages (from importlib-metadata->markdown>=2.6.8->tensorboard>=2.4.1->-r yolov5/requirements.txt (line 15)) (3.6.0)\n"
          ]
        }
      ]
    },
    {
      "cell_type": "code",
      "metadata": {
        "id": "hxCziwncWqMw"
      },
      "source": [
        "import torch\n",
        "from IPython.display import Image  # for displaying images\n",
        "import os \n",
        "import random\n",
        "import shutil\n",
        "from sklearn.model_selection import train_test_split\n",
        "import xml.etree.ElementTree as ET\n",
        "from xml.dom import minidom\n",
        "from tqdm import tqdm\n",
        "from PIL import Image, ImageDraw\n",
        "import numpy as np\n",
        "import matplotlib.pyplot as plt\n",
        "\n",
        "random.seed(108)"
      ],
      "execution_count": null,
      "outputs": []
    },
    {
      "cell_type": "code",
      "metadata": {
        "colab": {
          "base_uri": "https://localhost:8080/"
        },
        "id": "O2LkUsa_W3Le",
        "outputId": "5e401746-6734-4256-97e9-24e10497940b"
      },
      "source": [
        "!unzip '/content/drive/MyDrive/Road_Sign_Dataset/RoadSignsPascalVOC.zip'"
      ],
      "execution_count": null,
      "outputs": [
        {
          "output_type": "stream",
          "name": "stdout",
          "text": [
            "Archive:  /content/drive/MyDrive/Road_Sign_Dataset/RoadSignsPascalVOC.zip\n",
            "replace __MACOSX/._annotations? [y]es, [n]o, [A]ll, [N]one, [r]ename: "
          ]
        }
      ]
    },
    {
      "cell_type": "code",
      "metadata": {
        "id": "EsxOfJYQexRA"
      },
      "source": [
        "def extract_info_from_xml(xml_file):\n",
        "    root = ET.parse(xml_file).getroot()\n",
        "    \n",
        "    # Initialise the info dict \n",
        "    info_dict = {}\n",
        "    info_dict['bboxes'] = []\n",
        "\n",
        "    # Parse the XML Tree\n",
        "    for elem in root:\n",
        "        # Get the file name \n",
        "        if elem.tag == \"filename\":\n",
        "            info_dict['filename'] = elem.text\n",
        "            \n",
        "        # Get the image size\n",
        "        elif elem.tag == \"size\":\n",
        "            image_size = []\n",
        "            for subelem in elem:\n",
        "                image_size.append(int(subelem.text))\n",
        "            \n",
        "            info_dict['image_size'] = tuple(image_size)\n",
        "        \n",
        "        # Get details of the bounding box \n",
        "        elif elem.tag == \"object\":\n",
        "            bbox = {}\n",
        "            for subelem in elem:\n",
        "                if subelem.tag == \"name\":\n",
        "                    bbox[\"class\"] = subelem.text\n",
        "                    \n",
        "                elif subelem.tag == \"bndbox\":\n",
        "                    for subsubelem in subelem:\n",
        "                        bbox[subsubelem.tag] = int(subsubelem.text)            \n",
        "            info_dict['bboxes'].append(bbox)\n",
        "    \n",
        "    return info_dict"
      ],
      "execution_count": null,
      "outputs": []
    },
    {
      "cell_type": "code",
      "metadata": {
        "colab": {
          "base_uri": "https://localhost:8080/",
          "height": 323
        },
        "id": "EjST06pffQ5F",
        "outputId": "cd372851-759f-44d8-c864-567d477ff003"
      },
      "source": [
        "print(extract_info_from_xml('/content/drive/MyDrive/Road_Sign_Dataset/annotations/road100.xml'))"
      ],
      "execution_count": null,
      "outputs": [
        {
          "ename": "FileNotFoundError",
          "evalue": "ignored",
          "output_type": "error",
          "traceback": [
            "\u001b[0;31m---------------------------------------------------------------------------\u001b[0m",
            "\u001b[0;31mFileNotFoundError\u001b[0m                         Traceback (most recent call last)",
            "\u001b[0;32m<ipython-input-4-83dceb14f99d>\u001b[0m in \u001b[0;36m<module>\u001b[0;34m()\u001b[0m\n\u001b[0;32m----> 1\u001b[0;31m \u001b[0mprint\u001b[0m\u001b[0;34m(\u001b[0m\u001b[0mextract_info_from_xml\u001b[0m\u001b[0;34m(\u001b[0m\u001b[0;34m'/content/drive/MyDrive/Road_Sign_Dataset/annotations/road100.xml'\u001b[0m\u001b[0;34m)\u001b[0m\u001b[0;34m)\u001b[0m\u001b[0;34m\u001b[0m\u001b[0;34m\u001b[0m\u001b[0m\n\u001b[0m",
            "\u001b[0;32m<ipython-input-3-b11c351d711b>\u001b[0m in \u001b[0;36mextract_info_from_xml\u001b[0;34m(xml_file)\u001b[0m\n\u001b[1;32m      1\u001b[0m \u001b[0;32mdef\u001b[0m \u001b[0mextract_info_from_xml\u001b[0m\u001b[0;34m(\u001b[0m\u001b[0mxml_file\u001b[0m\u001b[0;34m)\u001b[0m\u001b[0;34m:\u001b[0m\u001b[0;34m\u001b[0m\u001b[0;34m\u001b[0m\u001b[0m\n\u001b[0;32m----> 2\u001b[0;31m     \u001b[0mroot\u001b[0m \u001b[0;34m=\u001b[0m \u001b[0mET\u001b[0m\u001b[0;34m.\u001b[0m\u001b[0mparse\u001b[0m\u001b[0;34m(\u001b[0m\u001b[0mxml_file\u001b[0m\u001b[0;34m)\u001b[0m\u001b[0;34m.\u001b[0m\u001b[0mgetroot\u001b[0m\u001b[0;34m(\u001b[0m\u001b[0;34m)\u001b[0m\u001b[0;34m\u001b[0m\u001b[0;34m\u001b[0m\u001b[0m\n\u001b[0m\u001b[1;32m      3\u001b[0m \u001b[0;34m\u001b[0m\u001b[0m\n\u001b[1;32m      4\u001b[0m     \u001b[0;31m# Initialise the info dict\u001b[0m\u001b[0;34m\u001b[0m\u001b[0;34m\u001b[0m\u001b[0;34m\u001b[0m\u001b[0m\n\u001b[1;32m      5\u001b[0m     \u001b[0minfo_dict\u001b[0m \u001b[0;34m=\u001b[0m \u001b[0;34m{\u001b[0m\u001b[0;34m}\u001b[0m\u001b[0;34m\u001b[0m\u001b[0;34m\u001b[0m\u001b[0m\n",
            "\u001b[0;32m/usr/lib/python3.7/xml/etree/ElementTree.py\u001b[0m in \u001b[0;36mparse\u001b[0;34m(source, parser)\u001b[0m\n\u001b[1;32m   1195\u001b[0m     \"\"\"\n\u001b[1;32m   1196\u001b[0m     \u001b[0mtree\u001b[0m \u001b[0;34m=\u001b[0m \u001b[0mElementTree\u001b[0m\u001b[0;34m(\u001b[0m\u001b[0;34m)\u001b[0m\u001b[0;34m\u001b[0m\u001b[0;34m\u001b[0m\u001b[0m\n\u001b[0;32m-> 1197\u001b[0;31m     \u001b[0mtree\u001b[0m\u001b[0;34m.\u001b[0m\u001b[0mparse\u001b[0m\u001b[0;34m(\u001b[0m\u001b[0msource\u001b[0m\u001b[0;34m,\u001b[0m \u001b[0mparser\u001b[0m\u001b[0;34m)\u001b[0m\u001b[0;34m\u001b[0m\u001b[0;34m\u001b[0m\u001b[0m\n\u001b[0m\u001b[1;32m   1198\u001b[0m     \u001b[0;32mreturn\u001b[0m \u001b[0mtree\u001b[0m\u001b[0;34m\u001b[0m\u001b[0;34m\u001b[0m\u001b[0m\n\u001b[1;32m   1199\u001b[0m \u001b[0;34m\u001b[0m\u001b[0m\n",
            "\u001b[0;32m/usr/lib/python3.7/xml/etree/ElementTree.py\u001b[0m in \u001b[0;36mparse\u001b[0;34m(self, source, parser)\u001b[0m\n\u001b[1;32m    585\u001b[0m         \u001b[0mclose_source\u001b[0m \u001b[0;34m=\u001b[0m \u001b[0;32mFalse\u001b[0m\u001b[0;34m\u001b[0m\u001b[0;34m\u001b[0m\u001b[0m\n\u001b[1;32m    586\u001b[0m         \u001b[0;32mif\u001b[0m \u001b[0;32mnot\u001b[0m \u001b[0mhasattr\u001b[0m\u001b[0;34m(\u001b[0m\u001b[0msource\u001b[0m\u001b[0;34m,\u001b[0m \u001b[0;34m\"read\"\u001b[0m\u001b[0;34m)\u001b[0m\u001b[0;34m:\u001b[0m\u001b[0;34m\u001b[0m\u001b[0;34m\u001b[0m\u001b[0m\n\u001b[0;32m--> 587\u001b[0;31m             \u001b[0msource\u001b[0m \u001b[0;34m=\u001b[0m \u001b[0mopen\u001b[0m\u001b[0;34m(\u001b[0m\u001b[0msource\u001b[0m\u001b[0;34m,\u001b[0m \u001b[0;34m\"rb\"\u001b[0m\u001b[0;34m)\u001b[0m\u001b[0;34m\u001b[0m\u001b[0;34m\u001b[0m\u001b[0m\n\u001b[0m\u001b[1;32m    588\u001b[0m             \u001b[0mclose_source\u001b[0m \u001b[0;34m=\u001b[0m \u001b[0;32mTrue\u001b[0m\u001b[0;34m\u001b[0m\u001b[0;34m\u001b[0m\u001b[0m\n\u001b[1;32m    589\u001b[0m         \u001b[0;32mtry\u001b[0m\u001b[0;34m:\u001b[0m\u001b[0;34m\u001b[0m\u001b[0;34m\u001b[0m\u001b[0m\n",
            "\u001b[0;31mFileNotFoundError\u001b[0m: [Errno 2] No such file or directory: '/content/drive/MyDrive/Road_Sign_Dataset/annotations/road100.xml'"
          ]
        }
      ]
    },
    {
      "cell_type": "code",
      "metadata": {
        "id": "h08Z3v1IfZ37"
      },
      "source": [
        "# Dictionary that maps class names to IDs\n",
        "class_name_to_id_mapping = {\"trafficlight\": 0,\n",
        "                           \"stop\": 1,\n",
        "                           \"speedlimit\": 2,\n",
        "                           \"crosswalk\": 3}\n",
        "\n",
        "# Convert the info dict to the required yolo format and write it to disk\n",
        "def convert_to_yolov5(info_dict):\n",
        "    print_buffer = []\n",
        "    \n",
        "    # For each bounding box\n",
        "    for b in info_dict[\"bboxes\"]:\n",
        "        try:\n",
        "            class_id = class_name_to_id_mapping[b[\"class\"]]\n",
        "        except KeyError:\n",
        "            print(\"Invalid Class. Must be one from \", class_name_to_id_mapping.keys())\n",
        "        \n",
        "        # Transform the bbox co-ordinates as per the format required by YOLO v5\n",
        "        b_center_x = (b[\"xmin\"] + b[\"xmax\"]) / 2 \n",
        "        b_center_y = (b[\"ymin\"] + b[\"ymax\"]) / 2\n",
        "        b_width    = (b[\"xmax\"] - b[\"xmin\"])\n",
        "        b_height   = (b[\"ymax\"] - b[\"ymin\"])\n",
        "        \n",
        "        # Normalise the co-ordinates by the dimensions of the image\n",
        "        image_w, image_h, image_c = info_dict[\"image_size\"]  \n",
        "        b_center_x /= image_w \n",
        "        b_center_y /= image_h \n",
        "        b_width    /= image_w \n",
        "        b_height   /= image_h \n",
        "        \n",
        "        #Write the bbox details to the file \n",
        "        print_buffer.append(\"{} {:.3f} {:.3f} {:.3f} {:.3f}\".format(class_id, b_center_x, b_center_y, b_width, b_height))\n",
        "        \n",
        "    # Name of the file which we have to save \n",
        "    save_file_name = os.path.join(\"/content/drive/MyDrive/Road_Sign_Dataset/annotations\", info_dict[\"filename\"].replace(\"png\", \"txt\"))\n",
        "    \n",
        "    # Save the annotation to disk\n",
        "    print(\"\\n\".join(print_buffer), file= open(save_file_name, \"w\"))"
      ],
      "execution_count": null,
      "outputs": []
    },
    {
      "cell_type": "code",
      "metadata": {
        "colab": {
          "base_uri": "https://localhost:8080/",
          "height": 262
        },
        "id": "izevLjAUf0QV",
        "outputId": "996eb96e-0992-43c8-d63f-7c53a1c9916d"
      },
      "source": [
        "# Get the annotations\n",
        "annotations = [os.path.join('/content/drive/MyDrive/Road_Sign_Dataset/annotations', x) for x in os.listdir('/content/drive/MyDrive/Road_Sign_Dataset/annotations') if x[-3:] == \"xml\"]\n",
        "annotations.sort()\n",
        "\n",
        "# Convert and save the annotations\n",
        "for ann in tqdm(annotations):\n",
        "    info_dict = extract_info_from_xml(ann)\n",
        "    convert_to_yolov5(info_dict)\n",
        "annotations = [os.path.join('/content/drive/MyDrive/Road_Sign_Dataset/annotations', x) for x in os.listdir('/content/drive/MyDrive/Road_Sign_Dataset/annotations') if x[-3:] == \"txt\"]"
      ],
      "execution_count": null,
      "outputs": [
        {
          "ename": "FileNotFoundError",
          "evalue": "ignored",
          "output_type": "error",
          "traceback": [
            "\u001b[0;31m---------------------------------------------------------------------------\u001b[0m",
            "\u001b[0;31mFileNotFoundError\u001b[0m                         Traceback (most recent call last)",
            "\u001b[0;32m<ipython-input-19-749413b7b885>\u001b[0m in \u001b[0;36m<module>\u001b[0;34m()\u001b[0m\n\u001b[1;32m      1\u001b[0m \u001b[0;31m# Get the annotations\u001b[0m\u001b[0;34m\u001b[0m\u001b[0;34m\u001b[0m\u001b[0;34m\u001b[0m\u001b[0m\n\u001b[0;32m----> 2\u001b[0;31m \u001b[0mannotations\u001b[0m \u001b[0;34m=\u001b[0m \u001b[0;34m[\u001b[0m\u001b[0mos\u001b[0m\u001b[0;34m.\u001b[0m\u001b[0mpath\u001b[0m\u001b[0;34m.\u001b[0m\u001b[0mjoin\u001b[0m\u001b[0;34m(\u001b[0m\u001b[0;34m'/content/drive/MyDrive/Road_Sign_Dataset/annotations'\u001b[0m\u001b[0;34m,\u001b[0m \u001b[0mx\u001b[0m\u001b[0;34m)\u001b[0m \u001b[0;32mfor\u001b[0m \u001b[0mx\u001b[0m \u001b[0;32min\u001b[0m \u001b[0mos\u001b[0m\u001b[0;34m.\u001b[0m\u001b[0mlistdir\u001b[0m\u001b[0;34m(\u001b[0m\u001b[0;34m'/content/drive/MyDrive/Road_Sign_Dataset/annotations'\u001b[0m\u001b[0;34m)\u001b[0m \u001b[0;32mif\u001b[0m \u001b[0mx\u001b[0m\u001b[0;34m[\u001b[0m\u001b[0;34m-\u001b[0m\u001b[0;36m3\u001b[0m\u001b[0;34m:\u001b[0m\u001b[0;34m]\u001b[0m \u001b[0;34m==\u001b[0m \u001b[0;34m\"xml\"\u001b[0m\u001b[0;34m]\u001b[0m\u001b[0;34m\u001b[0m\u001b[0;34m\u001b[0m\u001b[0m\n\u001b[0m\u001b[1;32m      3\u001b[0m \u001b[0mannotations\u001b[0m\u001b[0;34m.\u001b[0m\u001b[0msort\u001b[0m\u001b[0;34m(\u001b[0m\u001b[0;34m)\u001b[0m\u001b[0;34m\u001b[0m\u001b[0;34m\u001b[0m\u001b[0m\n\u001b[1;32m      4\u001b[0m \u001b[0;34m\u001b[0m\u001b[0m\n\u001b[1;32m      5\u001b[0m \u001b[0;31m# Convert and save the annotations\u001b[0m\u001b[0;34m\u001b[0m\u001b[0;34m\u001b[0m\u001b[0;34m\u001b[0m\u001b[0m\n",
            "\u001b[0;31mFileNotFoundError\u001b[0m: [Errno 2] No such file or directory: '/content/drive/MyDrive/Road_Sign_Dataset/annotations'"
          ]
        }
      ]
    },
    {
      "cell_type": "code",
      "metadata": {
        "colab": {
          "base_uri": "https://localhost:8080/",
          "height": 244
        },
        "id": "GnteNX1SgKAx",
        "outputId": "e5017967-0b8e-426c-ddea-2d39d9908526"
      },
      "source": [
        "random.seed(5)\n",
        "\n",
        "class_id_to_name_mapping = dict(zip(class_name_to_id_mapping.values(), class_name_to_id_mapping.keys()))\n",
        "\n",
        "def plot_bounding_box(image, annotation_list):\n",
        "    annotations = np.array(annotation_list)\n",
        "    w, h = image.size\n",
        "    \n",
        "    plotted_image = ImageDraw.Draw(image)\n",
        "\n",
        "    transformed_annotations = np.copy(annotations)\n",
        "    transformed_annotations[:,[1,3]] = annotations[:,[1,3]] * w\n",
        "    transformed_annotations[:,[2,4]] = annotations[:,[2,4]] * h \n",
        "    \n",
        "    transformed_annotations[:,1] = transformed_annotations[:,1] - (transformed_annotations[:,3] / 2)\n",
        "    transformed_annotations[:,2] = transformed_annotations[:,2] - (transformed_annotations[:,4] / 2)\n",
        "    transformed_annotations[:,3] = transformed_annotations[:,1] + transformed_annotations[:,3]\n",
        "    transformed_annotations[:,4] = transformed_annotations[:,2] + transformed_annotations[:,4]\n",
        "    \n",
        "    for ann in transformed_annotations:\n",
        "        obj_cls, x0, y0, x1, y1 = ann\n",
        "        plotted_image.rectangle(((x0,y0), (x1,y1)))\n",
        "        \n",
        "        plotted_image.text((x0, y0 - 10), class_id_to_name_mapping[(int(obj_cls))])\n",
        "    \n",
        "    plt.imshow(np.array(image))\n",
        "    plt.show()\n",
        "\n",
        "# Get any random annotation file \n",
        "annotation_file = random.choice(annotations)\n",
        "with open(annotation_file, \"r\") as file:\n",
        "    annotation_list = file.read().split(\"\\n\")[:-1]\n",
        "    annotation_list = [x.split(\" \") for x in annotation_list]\n",
        "    annotation_list = [[float(y) for y in x ] for x in annotation_list]\n",
        "\n",
        "#Get the corresponding image file\n",
        "image_file = annotation_file.replace(\"annotations\", \"images\").replace(\"txt\", \"png\")\n",
        "assert os.path.exists(image_file)\n",
        "\n",
        "#Load the image\n",
        "image = Image.open(image_file)\n",
        "\n",
        "#Plot the Bounding Box\n",
        "plot_bounding_box(image, annotation_list)"
      ],
      "execution_count": null,
      "outputs": [
        {
          "ename": "NameError",
          "evalue": "ignored",
          "output_type": "error",
          "traceback": [
            "\u001b[0;31m---------------------------------------------------------------------------\u001b[0m",
            "\u001b[0;31mNameError\u001b[0m                                 Traceback (most recent call last)",
            "\u001b[0;32m<ipython-input-20-cce45b110320>\u001b[0m in \u001b[0;36m<module>\u001b[0;34m()\u001b[0m\n\u001b[1;32m      1\u001b[0m \u001b[0mrandom\u001b[0m\u001b[0;34m.\u001b[0m\u001b[0mseed\u001b[0m\u001b[0;34m(\u001b[0m\u001b[0;36m5\u001b[0m\u001b[0;34m)\u001b[0m\u001b[0;34m\u001b[0m\u001b[0;34m\u001b[0m\u001b[0m\n\u001b[1;32m      2\u001b[0m \u001b[0;34m\u001b[0m\u001b[0m\n\u001b[0;32m----> 3\u001b[0;31m \u001b[0mclass_id_to_name_mapping\u001b[0m \u001b[0;34m=\u001b[0m \u001b[0mdict\u001b[0m\u001b[0;34m(\u001b[0m\u001b[0mzip\u001b[0m\u001b[0;34m(\u001b[0m\u001b[0mclass_name_to_id_mapping\u001b[0m\u001b[0;34m.\u001b[0m\u001b[0mvalues\u001b[0m\u001b[0;34m(\u001b[0m\u001b[0;34m)\u001b[0m\u001b[0;34m,\u001b[0m \u001b[0mclass_name_to_id_mapping\u001b[0m\u001b[0;34m.\u001b[0m\u001b[0mkeys\u001b[0m\u001b[0;34m(\u001b[0m\u001b[0;34m)\u001b[0m\u001b[0;34m)\u001b[0m\u001b[0;34m)\u001b[0m\u001b[0;34m\u001b[0m\u001b[0;34m\u001b[0m\u001b[0m\n\u001b[0m\u001b[1;32m      4\u001b[0m \u001b[0;34m\u001b[0m\u001b[0m\n\u001b[1;32m      5\u001b[0m \u001b[0;32mdef\u001b[0m \u001b[0mplot_bounding_box\u001b[0m\u001b[0;34m(\u001b[0m\u001b[0mimage\u001b[0m\u001b[0;34m,\u001b[0m \u001b[0mannotation_list\u001b[0m\u001b[0;34m)\u001b[0m\u001b[0;34m:\u001b[0m\u001b[0;34m\u001b[0m\u001b[0;34m\u001b[0m\u001b[0m\n",
            "\u001b[0;31mNameError\u001b[0m: name 'class_name_to_id_mapping' is not defined"
          ]
        }
      ]
    },
    {
      "cell_type": "code",
      "metadata": {
        "id": "6Sue1uaLhYNK"
      },
      "source": [
        "# Read images and annotations\n",
        "images = [os.path.join('images', x) for x in os.listdir('images')]\n",
        "annotations = [os.path.join('annotations', x) for x in os.listdir('annotations') if x[-3:] == \"txt\"]\n",
        "\n",
        "images.sort()\n",
        "annotations.sort()\n",
        "\n",
        "# Split the dataset into train-valid-test splits \n",
        "train_images, val_images, train_annotations, val_annotations = train_test_split(images, annotations, test_size = 0.2, random_state = 1)\n",
        "val_images, test_images, val_annotations, test_annotations = train_test_split(val_images, val_annotations, test_size = 0.5, random_state = 1)"
      ],
      "execution_count": null,
      "outputs": []
    },
    {
      "cell_type": "code",
      "metadata": {
        "id": "mv4KNAglhpLt"
      },
      "source": [
        "!mkdir images/train images/val images/test annotations/train annotations/val annotations/test"
      ],
      "execution_count": null,
      "outputs": []
    },
    {
      "cell_type": "code",
      "metadata": {
        "id": "-P3x6jzshvxn"
      },
      "source": [
        "#Utility function to move images \n",
        "def move_files_to_folder(list_of_files, destination_folder):\n",
        "    for f in list_of_files:\n",
        "        try:\n",
        "            shutil.move(f, destination_folder)\n",
        "        except:\n",
        "            print(f)\n",
        "            assert False\n",
        "\n",
        "# Move the splits into their folders\n",
        "move_files_to_folder(train_images, 'images/train')\n",
        "move_files_to_folder(val_images, 'images/val/')\n",
        "move_files_to_folder(test_images, 'images/test/')\n",
        "move_files_to_folder(train_annotations, 'annotations/train/')\n",
        "move_files_to_folder(val_annotations, 'annotations/val/')\n",
        "move_files_to_folder(test_annotations, 'annotations/test/')"
      ],
      "execution_count": null,
      "outputs": []
    },
    {
      "cell_type": "code",
      "metadata": {
        "id": "7ukHIV-vh9c5"
      },
      "source": [
        "!mv annotations labels\n",
        "!cd '/content/drive/MyDrive/Road_Sign_Dataset/yolov5'"
      ],
      "execution_count": null,
      "outputs": []
    },
    {
      "cell_type": "code",
      "metadata": {
        "colab": {
          "base_uri": "https://localhost:8080/"
        },
        "id": "KSi89CJrit8V",
        "outputId": "403d8217-48c1-47d0-ee0f-8fa05838d795"
      },
      "source": [
        "!wget -P data/ https://gist.githubusercontent.com/ayooshkathuria/bcf7e3c929cbad445439c506dba6198d/raw/f437350c0c17c4eaa1e8657a5cb836e65d8aa08a/road_sign_data.yaml"
      ],
      "execution_count": null,
      "outputs": [
        {
          "output_type": "stream",
          "name": "stdout",
          "text": [
            "--2021-10-06 10:56:19--  https://gist.githubusercontent.com/ayooshkathuria/bcf7e3c929cbad445439c506dba6198d/raw/f437350c0c17c4eaa1e8657a5cb836e65d8aa08a/road_sign_data.yaml\n",
            "Resolving gist.githubusercontent.com (gist.githubusercontent.com)... 185.199.109.133, 185.199.111.133, 185.199.108.133, ...\n",
            "Connecting to gist.githubusercontent.com (gist.githubusercontent.com)|185.199.109.133|:443... connected.\n",
            "HTTP request sent, awaiting response... 200 OK\n",
            "Length: 220 [text/plain]\n",
            "Saving to: ‘data/road_sign_data.yaml.1’\n",
            "\n",
            "\rroad_sign_data.yaml   0%[                    ]       0  --.-KB/s               \rroad_sign_data.yaml 100%[===================>]     220  --.-KB/s    in 0s      \n",
            "\n",
            "2021-10-06 10:56:19 (7.36 MB/s) - ‘data/road_sign_data.yaml.1’ saved [220/220]\n",
            "\n"
          ]
        }
      ]
    },
    {
      "cell_type": "code",
      "metadata": {
        "colab": {
          "base_uri": "https://localhost:8080/"
        },
        "id": "6sVh9nSelutK",
        "outputId": "64dad038-b53e-4faf-b02a-1f940ef974dc"
      },
      "source": [
        "cd '/content/drive/MyDrive/Road_Sign_Dataset/yolov5/utils'"
      ],
      "execution_count": null,
      "outputs": [
        {
          "output_type": "stream",
          "name": "stdout",
          "text": [
            "/content/drive/MyDrive/Road_Sign_Dataset/yolov5/utils\n"
          ]
        }
      ]
    },
    {
      "cell_type": "code",
      "metadata": {
        "colab": {
          "base_uri": "https://localhost:8080/"
        },
        "id": "gGd1nlkpmWKB",
        "outputId": "090047a5-501b-4f4e-c29a-19af642f182b"
      },
      "source": [
        "cd '/content/drive/MyDrive/Road_Sign_Dataset'"
      ],
      "execution_count": null,
      "outputs": [
        {
          "output_type": "stream",
          "name": "stdout",
          "text": [
            "/content/drive/MyDrive/Road_Sign_Dataset\n"
          ]
        }
      ]
    },
    {
      "cell_type": "code",
      "metadata": {
        "colab": {
          "base_uri": "https://localhost:8080/"
        },
        "id": "ryieyFg2kGYJ",
        "outputId": "b38fbf28-35d6-4e03-c6fc-c71494593750"
      },
      "source": [
        "!python ./yolov5/train.py --img 540 --cfg yolov5s.yaml --hyp hyp.scratch.yaml --batch 32 --epochs 2 --data road_sign_data.yaml --weights yolov5s.pt --workers 24 --name yolo_road_det"
      ],
      "execution_count": null,
      "outputs": [
        {
          "output_type": "stream",
          "name": "stdout",
          "text": [
            "\u001b[34m\u001b[1mtrain: \u001b[0mweights=yolov5s.pt, cfg=yolov5s.yaml, data=road_sign_data.yaml, hyp=hyp.scratch.yaml, epochs=2, batch_size=32, imgsz=540, rect=False, resume=False, nosave=False, noval=False, noautoanchor=False, evolve=None, bucket=, cache=None, image_weights=False, device=, multi_scale=False, single_cls=False, adam=False, sync_bn=False, workers=24, project=yolov5/runs/train, name=yolo_road_det, exist_ok=False, quad=False, linear_lr=False, label_smoothing=0.0, patience=100, freeze=0, save_period=-1, local_rank=-1, entity=None, upload_dataset=False, bbox_interval=-1, artifact_alias=latest\n",
            "\u001b[34m\u001b[1mgithub: \u001b[0mskipping check (not a git repository), for updates see https://github.com/ultralytics/yolov5\n",
            "YOLOv5 🚀 2021-10-6 torch 1.9.0+cu102 CUDA:0 (Tesla K80, 11441.1875MB)\n",
            "\n",
            "\u001b[34m\u001b[1mhyperparameters: \u001b[0mlr0=0.01, lrf=0.2, momentum=0.937, weight_decay=0.0005, warmup_epochs=3.0, warmup_momentum=0.8, warmup_bias_lr=0.1, box=0.05, cls=0.5, cls_pw=1.0, obj=1.0, obj_pw=1.0, iou_t=0.2, anchor_t=4.0, fl_gamma=0.0, hsv_h=0.015, hsv_s=0.7, hsv_v=0.4, degrees=0.0, translate=0.1, scale=0.5, shear=0.0, perspective=0.0, flipud=0.0, fliplr=0.5, mosaic=1.0, mixup=0.0, copy_paste=0.0\n",
            "\u001b[34m\u001b[1mWeights & Biases: \u001b[0mrun 'pip install wandb' to automatically track and visualize YOLOv5 🚀 runs (RECOMMENDED)\n",
            "\u001b[34m\u001b[1mTensorBoard: \u001b[0mStart with 'tensorboard --logdir yolov5/runs/train', view at http://localhost:6006/\n",
            "Overriding model.yaml nc=80 with nc=4\n",
            "\n",
            "                 from  n    params  module                                  arguments                     \n",
            "  0                -1  1      3520  models.common.Focus                     [3, 32, 3]                    \n",
            "  1                -1  1     18560  models.common.Conv                      [32, 64, 3, 2]                \n",
            "  2                -1  1     18816  models.common.C3                        [64, 64, 1]                   \n",
            "  3                -1  1     73984  models.common.Conv                      [64, 128, 3, 2]               \n",
            "  4                -1  3    156928  models.common.C3                        [128, 128, 3]                 \n",
            "  5                -1  1    295424  models.common.Conv                      [128, 256, 3, 2]              \n",
            "  6                -1  3    625152  models.common.C3                        [256, 256, 3]                 \n",
            "  7                -1  1   1180672  models.common.Conv                      [256, 512, 3, 2]              \n",
            "  8                -1  1    656896  models.common.SPP                       [512, 512, [5, 9, 13]]        \n",
            "  9                -1  1   1182720  models.common.C3                        [512, 512, 1, False]          \n",
            " 10                -1  1    131584  models.common.Conv                      [512, 256, 1, 1]              \n",
            " 11                -1  1         0  torch.nn.modules.upsampling.Upsample    [None, 2, 'nearest']          \n",
            " 12           [-1, 6]  1         0  models.common.Concat                    [1]                           \n",
            " 13                -1  1    361984  models.common.C3                        [512, 256, 1, False]          \n",
            " 14                -1  1     33024  models.common.Conv                      [256, 128, 1, 1]              \n",
            " 15                -1  1         0  torch.nn.modules.upsampling.Upsample    [None, 2, 'nearest']          \n",
            " 16           [-1, 4]  1         0  models.common.Concat                    [1]                           \n",
            " 17                -1  1     90880  models.common.C3                        [256, 128, 1, False]          \n",
            " 18                -1  1    147712  models.common.Conv                      [128, 128, 3, 2]              \n",
            " 19          [-1, 14]  1         0  models.common.Concat                    [1]                           \n",
            " 20                -1  1    296448  models.common.C3                        [256, 256, 1, False]          \n",
            " 21                -1  1    590336  models.common.Conv                      [256, 256, 3, 2]              \n",
            " 22          [-1, 10]  1         0  models.common.Concat                    [1]                           \n",
            " 23                -1  1   1182720  models.common.C3                        [512, 512, 1, False]          \n",
            " 24      [17, 20, 23]  1     24273  models.yolo.Detect                      [4, [[10, 13, 16, 30, 33, 23], [30, 61, 62, 45, 59, 119], [116, 90, 156, 198, 373, 326]], [128, 256, 512]]\n",
            "Model Summary: 283 layers, 7071633 parameters, 7071633 gradients, 16.4 GFLOPs\n",
            "\n",
            "Transferred 354/362 items from yolov5s.pt\n",
            "Scaled weight_decay = 0.0005\n",
            "\u001b[34m\u001b[1moptimizer:\u001b[0m SGD with parameter groups 59 weight, 62 weight (no decay), 62 bias\n",
            "WARNING: --img-size 540 must be multiple of max stride 32, updating to 544\n",
            "\u001b[34m\u001b[1malbumentations: \u001b[0mversion 1.0.3 required by YOLOv5, but version 0.1.12 is currently installed\n",
            "\u001b[34m\u001b[1mtrain: \u001b[0mScanning '../Road_Sign_Dataset/labels/train.cache' images and labels... 701 found, 0 missing, 0 empty, 0 corrupted: 100% 701/701 [00:00<?, ?it/s]\n",
            "\u001b[34m\u001b[1mval: \u001b[0mScanning '../Road_Sign_Dataset/labels/val.cache' images and labels... 88 found, 0 missing, 0 empty, 0 corrupted: 100% 88/88 [00:00<?, ?it/s]\n",
            "[W pthreadpool-cpp.cc:90] Warning: Leaking Caffe2 thread-pool after fork. (function pthreadpool)\n",
            "[W pthreadpool-cpp.cc:90] Warning: Leaking Caffe2 thread-pool after fork. (function pthreadpool)\n",
            "Plotting labels... \n",
            "\n",
            "\u001b[34m\u001b[1mautoanchor: \u001b[0mAnalyzing anchors... anchors/target = 5.68, Best Possible Recall (BPR) = 1.0000\n",
            "Image sizes 544 train, 544 val\n",
            "Using 2 dataloader workers\n",
            "Logging results to \u001b[1myolov5/runs/train/yolo_road_det\u001b[0m\n",
            "Starting training for 2 epochs...\n",
            "\n",
            "     Epoch   gpu_mem       box       obj       cls    labels  img_size\n",
            "       0/1     4.75G    0.1194   0.02213   0.04775        71       544: 100% 22/22 [00:39<00:00,  1.81s/it]\n",
            "               Class     Images     Labels          P          R     mAP@.5 mAP@.5:.95: 100% 2/2 [00:03<00:00,  1.88s/it]\n",
            "                 all         88        132     0.0102     0.0654    0.00506   0.000892\n",
            "\n",
            "     Epoch   gpu_mem       box       obj       cls    labels  img_size\n",
            "       1/1     5.43G    0.1017    0.0255   0.03888        76       544: 100% 22/22 [00:36<00:00,  1.68s/it]\n",
            "               Class     Images     Labels          P          R     mAP@.5 mAP@.5:.95: 100% 2/2 [00:03<00:00,  1.53s/it]\n",
            "                 all         88        132     0.0319      0.115     0.0303    0.00698\n",
            "\n",
            "2 epochs completed in 0.024 hours.\n",
            "Optimizer stripped from yolov5/runs/train/yolo_road_det/weights/last.pt, 14.4MB\n",
            "Optimizer stripped from yolov5/runs/train/yolo_road_det/weights/best.pt, 14.4MB\n",
            "\n",
            "Validating yolov5/runs/train/yolo_road_det/weights/best.pt...\n",
            "Fusing layers... \n",
            "Model Summary: 224 layers, 7062001 parameters, 0 gradients, 16.4 GFLOPs\n",
            "               Class     Images     Labels          P          R     mAP@.5 mAP@.5:.95: 100% 2/2 [00:04<00:00,  2.05s/it]\n",
            "                 all         88        132     0.0317      0.115     0.0303    0.00707\n",
            "        trafficlight         88         19          0          0   0.000214   2.78e-05\n",
            "                stop         88         10     0.0337        0.1     0.0309    0.00614\n",
            "          speedlimit         88         81     0.0932      0.358     0.0881     0.0216\n",
            "           crosswalk         88         22          0          0    0.00207   0.000538\n",
            "Results saved to \u001b[1myolov5/runs/train/yolo_road_det\u001b[0m\n"
          ]
        }
      ]
    },
    {
      "cell_type": "code",
      "metadata": {
        "colab": {
          "base_uri": "https://localhost:8080/"
        },
        "id": "3EDAFgJy5Z0Z",
        "outputId": "130fa299-6eab-4774-cf13-990efa184550"
      },
      "source": [
        "!python ./yolov5/detect.py --source ./images/test --weights ./yolov5/runs/train/yolo_road_det/weights/best.pt  --name yolo_road_det"
      ],
      "execution_count": null,
      "outputs": [
        {
          "output_type": "stream",
          "name": "stdout",
          "text": [
            "\u001b[34m\u001b[1mdetect: \u001b[0mweights=['./yolov5/runs/train/yolo_road_det/weights/best.pt'], source=./images/test, imgsz=[640, 640], conf_thres=0.25, iou_thres=0.45, max_det=1000, device=, view_img=False, save_txt=False, save_conf=False, save_crop=False, nosave=False, classes=None, agnostic_nms=False, augment=False, visualize=False, update=False, project=yolov5/runs/detect, name=yolo_road_det, exist_ok=False, line_thickness=3, hide_labels=False, hide_conf=False, half=False\n",
            "YOLOv5 🚀 v5.0-496-g070af88 torch 1.9.0+cu102 CUDA:0 (Tesla K80, 11441.1875MB)\n",
            "\n",
            "Fusing layers... \n",
            "Model Summary: 224 layers, 7062001 parameters, 0 gradients, 16.4 GFLOPs\n",
            "image 1/88 /content/drive/My Drive/Road_Sign_Dataset/images/test/road100.png: 640x640 Done. (0.022s)\n",
            "image 2/88 /content/drive/My Drive/Road_Sign_Dataset/images/test/road113.png: 448x640 Done. (0.019s)\n",
            "image 3/88 /content/drive/My Drive/Road_Sign_Dataset/images/test/road129.png: 448x640 Done. (0.018s)\n",
            "image 4/88 /content/drive/My Drive/Road_Sign_Dataset/images/test/road140.png: 448x640 Done. (0.018s)\n",
            "image 5/88 /content/drive/My Drive/Road_Sign_Dataset/images/test/road142.png: 640x448 Done. (0.018s)\n",
            "image 6/88 /content/drive/My Drive/Road_Sign_Dataset/images/test/road143.png: 640x448 Done. (0.017s)\n",
            "image 7/88 /content/drive/My Drive/Road_Sign_Dataset/images/test/road157.png: 640x480 Done. (0.021s)\n",
            "image 8/88 /content/drive/My Drive/Road_Sign_Dataset/images/test/road160.png: 640x480 Done. (0.018s)\n",
            "image 9/88 /content/drive/My Drive/Road_Sign_Dataset/images/test/road164.png: 640x480 Done. (0.018s)\n",
            "image 10/88 /content/drive/My Drive/Road_Sign_Dataset/images/test/road174.png: 640x480 Done. (0.018s)\n",
            "image 11/88 /content/drive/My Drive/Road_Sign_Dataset/images/test/road175.png: 640x480 Done. (0.018s)\n",
            "image 12/88 /content/drive/My Drive/Road_Sign_Dataset/images/test/road18.png: 640x512 Done. (0.020s)\n",
            "image 13/88 /content/drive/My Drive/Road_Sign_Dataset/images/test/road183.png: 640x480 Done. (0.020s)\n",
            "image 14/88 /content/drive/My Drive/Road_Sign_Dataset/images/test/road194.png: 640x480 Done. (0.018s)\n",
            "image 15/88 /content/drive/My Drive/Road_Sign_Dataset/images/test/road199.png: 640x480 Done. (0.018s)\n",
            "image 16/88 /content/drive/My Drive/Road_Sign_Dataset/images/test/road206.png: 640x480 Done. (0.018s)\n",
            "image 17/88 /content/drive/My Drive/Road_Sign_Dataset/images/test/road261.png: 640x480 Done. (0.018s)\n",
            "image 18/88 /content/drive/My Drive/Road_Sign_Dataset/images/test/road267.png: 640x480 Done. (0.018s)\n",
            "image 19/88 /content/drive/My Drive/Road_Sign_Dataset/images/test/road293.png: 640x480 Done. (0.018s)\n",
            "image 20/88 /content/drive/My Drive/Road_Sign_Dataset/images/test/road3.png: 480x640 Done. (0.020s)\n",
            "image 21/88 /content/drive/My Drive/Road_Sign_Dataset/images/test/road315.png: 640x480 Done. (0.019s)\n",
            "image 22/88 /content/drive/My Drive/Road_Sign_Dataset/images/test/road316.png: 640x480 Done. (0.018s)\n",
            "image 23/88 /content/drive/My Drive/Road_Sign_Dataset/images/test/road318.png: 640x480 Done. (0.018s)\n",
            "image 24/88 /content/drive/My Drive/Road_Sign_Dataset/images/test/road321.png: 640x480 Done. (0.018s)\n",
            "image 25/88 /content/drive/My Drive/Road_Sign_Dataset/images/test/road328.png: 640x480 Done. (0.018s)\n",
            "image 26/88 /content/drive/My Drive/Road_Sign_Dataset/images/test/road33.png: 640x448 Done. (0.018s)\n",
            "image 27/88 /content/drive/My Drive/Road_Sign_Dataset/images/test/road337.png: 640x480 Done. (0.019s)\n",
            "image 28/88 /content/drive/My Drive/Road_Sign_Dataset/images/test/road356.png: 640x480 Done. (0.018s)\n",
            "image 29/88 /content/drive/My Drive/Road_Sign_Dataset/images/test/road360.png: 640x480 Done. (0.018s)\n",
            "image 30/88 /content/drive/My Drive/Road_Sign_Dataset/images/test/road367.png: 640x480 Done. (0.018s)\n",
            "image 31/88 /content/drive/My Drive/Road_Sign_Dataset/images/test/road37.png: 640x448 Done. (0.018s)\n",
            "image 32/88 /content/drive/My Drive/Road_Sign_Dataset/images/test/road385.png: 640x480 Done. (0.019s)\n",
            "image 33/88 /content/drive/My Drive/Road_Sign_Dataset/images/test/road403.png: 640x480 Done. (0.018s)\n",
            "image 34/88 /content/drive/My Drive/Road_Sign_Dataset/images/test/road408.png: 640x480 Done. (0.018s)\n",
            "image 35/88 /content/drive/My Drive/Road_Sign_Dataset/images/test/road417.png: 640x480 Done. (0.018s)\n",
            "image 36/88 /content/drive/My Drive/Road_Sign_Dataset/images/test/road418.png: 640x480 Done. (0.018s)\n",
            "image 37/88 /content/drive/My Drive/Road_Sign_Dataset/images/test/road43.png: 448x640 Done. (0.019s)\n",
            "image 38/88 /content/drive/My Drive/Road_Sign_Dataset/images/test/road431.png: 640x480 Done. (0.019s)\n",
            "image 39/88 /content/drive/My Drive/Road_Sign_Dataset/images/test/road433.png: 640x480 Done. (0.018s)\n",
            "image 40/88 /content/drive/My Drive/Road_Sign_Dataset/images/test/road445.png: 640x480 Done. (0.018s)\n",
            "image 41/88 /content/drive/My Drive/Road_Sign_Dataset/images/test/road47.png: 448x640 Done. (0.019s)\n",
            "image 42/88 /content/drive/My Drive/Road_Sign_Dataset/images/test/road486.png: 640x480 Done. (0.019s)\n",
            "image 43/88 /content/drive/My Drive/Road_Sign_Dataset/images/test/road490.png: 640x480 Done. (0.018s)\n",
            "image 44/88 /content/drive/My Drive/Road_Sign_Dataset/images/test/road492.png: 640x480 Done. (0.018s)\n",
            "image 45/88 /content/drive/My Drive/Road_Sign_Dataset/images/test/road494.png: 640x480 Done. (0.018s)\n",
            "image 46/88 /content/drive/My Drive/Road_Sign_Dataset/images/test/road498.png: 640x480 Done. (0.018s)\n",
            "image 47/88 /content/drive/My Drive/Road_Sign_Dataset/images/test/road50.png: 640x448 Done. (0.018s)\n",
            "image 48/88 /content/drive/My Drive/Road_Sign_Dataset/images/test/road543.png: 640x480 Done. (0.019s)\n",
            "image 49/88 /content/drive/My Drive/Road_Sign_Dataset/images/test/road547.png: 640x480 Done. (0.018s)\n",
            "image 50/88 /content/drive/My Drive/Road_Sign_Dataset/images/test/road550.png: 640x480 Done. (0.018s)\n",
            "image 51/88 /content/drive/My Drive/Road_Sign_Dataset/images/test/road558.png: 640x480 Done. (0.018s)\n",
            "image 52/88 /content/drive/My Drive/Road_Sign_Dataset/images/test/road563.png: 640x480 Done. (0.018s)\n",
            "image 53/88 /content/drive/My Drive/Road_Sign_Dataset/images/test/road564.png: 640x480 Done. (0.018s)\n",
            "image 54/88 /content/drive/My Drive/Road_Sign_Dataset/images/test/road590.png: 640x480 Done. (0.018s)\n",
            "image 55/88 /content/drive/My Drive/Road_Sign_Dataset/images/test/road599.png: 640x480 Done. (0.018s)\n",
            "image 56/88 /content/drive/My Drive/Road_Sign_Dataset/images/test/road600.png: 640x480 Done. (0.018s)\n",
            "image 57/88 /content/drive/My Drive/Road_Sign_Dataset/images/test/road609.png: 640x480 Done. (0.018s)\n",
            "image 58/88 /content/drive/My Drive/Road_Sign_Dataset/images/test/road617.png: 640x480 Done. (0.018s)\n",
            "image 59/88 /content/drive/My Drive/Road_Sign_Dataset/images/test/road625.png: 640x480 Done. (0.018s)\n",
            "image 60/88 /content/drive/My Drive/Road_Sign_Dataset/images/test/road640.png: 640x480 Done. (0.018s)\n",
            "image 61/88 /content/drive/My Drive/Road_Sign_Dataset/images/test/road643.png: 640x480 Done. (0.018s)\n",
            "image 62/88 /content/drive/My Drive/Road_Sign_Dataset/images/test/road661.png: 640x480 Done. (0.018s)\n",
            "image 63/88 /content/drive/My Drive/Road_Sign_Dataset/images/test/road665.png: 640x480 Done. (0.018s)\n",
            "image 64/88 /content/drive/My Drive/Road_Sign_Dataset/images/test/road667.png: 640x480 Done. (0.018s)\n",
            "image 65/88 /content/drive/My Drive/Road_Sign_Dataset/images/test/road67.png: 448x640 Done. (0.020s)\n",
            "image 66/88 /content/drive/My Drive/Road_Sign_Dataset/images/test/road672.png: 640x480 Done. (0.019s)\n",
            "image 67/88 /content/drive/My Drive/Road_Sign_Dataset/images/test/road679.png: 640x480 Done. (0.018s)\n",
            "image 68/88 /content/drive/My Drive/Road_Sign_Dataset/images/test/road695.png: 640x480 Done. (0.018s)\n",
            "image 69/88 /content/drive/My Drive/Road_Sign_Dataset/images/test/road709.png: 640x480 Done. (0.018s)\n",
            "image 70/88 /content/drive/My Drive/Road_Sign_Dataset/images/test/road712.png: 640x480 Done. (0.018s)\n",
            "image 71/88 /content/drive/My Drive/Road_Sign_Dataset/images/test/road721.png: 640x480 Done. (0.018s)\n",
            "image 72/88 /content/drive/My Drive/Road_Sign_Dataset/images/test/road730.png: 640x480 Done. (0.018s)\n",
            "image 73/88 /content/drive/My Drive/Road_Sign_Dataset/images/test/road731.png: 640x480 Done. (0.018s)\n",
            "image 74/88 /content/drive/My Drive/Road_Sign_Dataset/images/test/road748.png: 640x480 Done. (0.018s)\n",
            "image 75/88 /content/drive/My Drive/Road_Sign_Dataset/images/test/road764.png: 640x480 Done. (0.018s)\n",
            "image 76/88 /content/drive/My Drive/Road_Sign_Dataset/images/test/road784.png: 640x480 Done. (0.018s)\n",
            "image 77/88 /content/drive/My Drive/Road_Sign_Dataset/images/test/road789.png: 640x480 Done. (0.017s)\n",
            "image 78/88 /content/drive/My Drive/Road_Sign_Dataset/images/test/road796.png: 640x480 Done. (0.018s)\n",
            "image 79/88 /content/drive/My Drive/Road_Sign_Dataset/images/test/road80.png: 640x640 Done. (0.023s)\n",
            "image 80/88 /content/drive/My Drive/Road_Sign_Dataset/images/test/road801.png: 640x480 Done. (0.022s)\n",
            "image 81/88 /content/drive/My Drive/Road_Sign_Dataset/images/test/road803.png: 640x480 Done. (0.018s)\n",
            "image 82/88 /content/drive/My Drive/Road_Sign_Dataset/images/test/road804.png: 640x480 Done. (0.018s)\n",
            "image 83/88 /content/drive/My Drive/Road_Sign_Dataset/images/test/road809.png: 640x480 Done. (0.018s)\n",
            "image 84/88 /content/drive/My Drive/Road_Sign_Dataset/images/test/road819.png: 640x480 Done. (0.018s)\n",
            "image 85/88 /content/drive/My Drive/Road_Sign_Dataset/images/test/road841.png: 640x480 Done. (0.018s)\n",
            "image 86/88 /content/drive/My Drive/Road_Sign_Dataset/images/test/road854.png: 640x480 Done. (0.018s)\n",
            "image 87/88 /content/drive/My Drive/Road_Sign_Dataset/images/test/road91.png: 640x640 Done. (0.023s)\n",
            "image 88/88 /content/drive/My Drive/Road_Sign_Dataset/images/test/road96.png: 448x640 Done. (0.020s)\n",
            "Speed: 0.5ms pre-process, 18.2ms inference, 0.4ms NMS per image at shape (1, 3, 640, 640)\n",
            "Results saved to \u001b[1myolov5/runs/detect/yolo_road_det\u001b[0m\n"
          ]
        }
      ]
    },
    {
      "cell_type": "code",
      "metadata": {
        "colab": {
          "base_uri": "https://localhost:8080/",
          "height": 287
        },
        "id": "drGBxYsWnFbr",
        "outputId": "38f70a79-ceee-4dd8-bf65-6a96c9d8dacf"
      },
      "source": [
        "detections_dir = \"./yolov5/runs/detect/yolo_road_det5/\"\n",
        "detection_images = [os.path.join(detections_dir, x) for x in os.listdir(detections_dir)]\n",
        "\n",
        "random_detection_image = Image.open(random.choice(detection_images))\n",
        "plt.imshow(np.array(random_detection_image))"
      ],
      "execution_count": null,
      "outputs": [
        {
          "data": {
            "text/plain": [
              "<matplotlib.image.AxesImage at 0x7efe82ee70d0>"
            ]
          },
          "execution_count": 25,
          "metadata": {},
          "output_type": "execute_result"
        },
        {
          "data": {
            "image/png": "[encoded data removed]",
            "text/plain": [
              "<Figure size 432x288 with 1 Axes>"
            ]
          },
          "metadata": {},
          "output_type": "display_data"
        }
      ]
    },
    {
      "cell_type": "code",
      "metadata": {
        "colab": {
          "base_uri": "https://localhost:8080/"
        },
        "id": "p8ngCKFXq-bH",
        "outputId": "b1b7017b-690f-4843-cf05-aca998ea4a9b"
      },
      "source": [
        "!python ./yolov5/test.py --weights ./yolov5/runs/train/yolo_road_det37/weights/best.pt --data road_sign_data.yaml --task test --name yolo_det"
      ],
      "execution_count": null,
      "outputs": [
        {
          "name": "stdout",
          "output_type": "stream",
          "text": [
            "python3: can't open file './yolov5/test.py': [Errno 2] No such file or directory\n"
          ]
        }
      ]
    },
    {
      "cell_type": "code",
      "metadata": {
        "id": "c676E1PszrSi"
      },
      "source": [
        ""
      ],
      "execution_count": null,
      "outputs": []
    }
  ]
}